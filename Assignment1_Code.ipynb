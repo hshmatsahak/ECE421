{
 "cells": [
  {
   "cell_type": "markdown",
   "metadata": {},
   "source": [
    "### 1)  Implement kmeans function- this performs one trial of the k-means algorithm, starting with a random initialization of k data points"
   ]
  },
  {
   "cell_type": "code",
   "execution_count": 3,
   "metadata": {},
   "outputs": [],
   "source": [
    "import numpy as np\n",
    "def kmeans(data, k):\n",
    "    num_examples, num_features = data.shape\n",
    "    old_centroids = np.zeros((k, num_features))\n",
    "    random_indices = np.random.choice(num_examples, size=k, replace=False)\n",
    "    cluster_centroids = data[random_indices, :]\n",
    "    cluster_assignments = [0]*num_examples\n",
    "\n",
    "    repeat = True\n",
    "    while repeat:\n",
    "        # Cluster Assignment Step\n",
    "        clusteridx_to_examples = dict()\n",
    "        for i in range(num_examples):\n",
    "            # Find cluster point closest to data point\n",
    "            mindist, minidx = np.linalg.norm(data[i]-cluster_centroids[0]), 0\n",
    "            for j in range(1, k):\n",
    "                if np.linalg.norm(data[i]-cluster_centroids[j]) < mindist:\n",
    "                    mindist, minidx = np.linalg.norm(data[i]-cluster_centroids[j]), j\n",
    "            \n",
    "            # Store data point in index_to_examples dictionary\n",
    "            cluster_assignments[i] = minidx\n",
    "            if minidx in clusteridx_to_examples:\n",
    "                clusteridx_to_examples[minidx].append(i)\n",
    "            else:\n",
    "                clusteridx_to_examples[minidx] = [i]\n",
    "                \n",
    "        # Move centroids step\n",
    "        for clusteridx, examples_in_cluster in clusteridx_to_examples.items():\n",
    "            cluster_centroids[clusteridx] = np.mean(np.array([data[i] for i in examples_in_cluster]), axis=0)\n",
    "        \n",
    "        # Repeat iff cluster centroids have changed \n",
    "        comparison = old_centroids == cluster_centroids\n",
    "        repeat = not comparison.all()\n",
    "        old_centroids = np.copy(cluster_centroids)\n",
    "        \n",
    "    return cluster_centroids, cluster_assignments"
   ]
  },
  {
   "cell_type": "markdown",
   "metadata": {},
   "source": [
    "### 2) Run kmeans for breast cancer data for 2 <= k <= 8"
   ]
  },
  {
   "cell_type": "code",
   "execution_count": 6,
   "metadata": {},
   "outputs": [
    {
     "data": {
      "text/plain": [
       "[136982.6008405956,\n",
       " 88783.42629047789,\n",
       " 51364.748070263326,\n",
       " 36331.63689693994,\n",
       " 30099.055519437814,\n",
       " 23468.086724960584]"
      ]
     },
     "execution_count": 6,
     "metadata": {},
     "output_type": "execute_result"
    }
   ],
   "source": [
    "from sklearn.datasets import load_breast_cancer\n",
    "dataset = load_breast_cancer()\n",
    "data = dataset.data\n",
    "num_examples = data.shape[0]\n",
    "distortions = []\n",
    "for k in range(2,8):\n",
    "    cluster_centroids, cluster_assignments = kmeans(data, k)\n",
    "    distortion = 0\n",
    "    for i in range(num_examples):\n",
    "        distortion += np.linalg.norm(data[i] - cluster_centroids[cluster_assignments[i]])**2\n",
    "    distortions.append(distortion/num_examples)\n",
    "distortions"
   ]
  },
  {
   "cell_type": "markdown",
   "metadata": {},
   "source": [
    "### 3) Plot distortion vs k"
   ]
  },
  {
   "cell_type": "code",
   "execution_count": 10,
   "metadata": {},
   "outputs": [
    {
     "data": {
      "text/plain": [
       "Text(0, 0.5, 'Distortion')"
      ]
     },
     "execution_count": 10,
     "metadata": {},
     "output_type": "execute_result"
    },
    {
     "data": {
      "image/png": "[encoded data removed]",
      "text/plain": [
       "<Figure size 432x288 with 1 Axes>"
      ]
     },
     "metadata": {
      "needs_background": "light"
     },
     "output_type": "display_data"
    }
   ],
   "source": [
    "import matplotlib.pyplot as plt\n",
    "plt.scatter(list(range(2,8)), distortions)\n",
    "plt.title(\"Distortion vs k\")\n",
    "plt.xlabel(\"k\")\n",
    "plt.ylabel(\"Distortion\")"
   ]
  }
 ],
 "metadata": {
  "kernelspec": {
   "display_name": "Python 3",
   "language": "python",
   "name": "python3"
  },
  "language_info": {
   "codemirror_mode": {
    "name": "ipython",
    "version": 3
   },
   "file_extension": ".py",
   "mimetype": "text/x-python",
   "name": "python",
   "nbconvert_exporter": "python",
   "pygments_lexer": "ipython3",
   "version": "3.8.5"
  }
 },
 "nbformat": 4,
 "nbformat_minor": 4
}
